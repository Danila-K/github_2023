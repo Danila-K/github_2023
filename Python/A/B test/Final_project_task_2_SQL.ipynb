{
 "cells": [
  {
   "cell_type": "markdown",
   "metadata": {},
   "source": [
    "# Задание 2. SQL\n",
    "\n",
    "## 2.1 Очень усердные ученики.\n",
    "\n",
    "## 2.1.1 Условие\n",
    "\n",
    "Образовательные курсы состоят из различных уроков, каждый из которых состоит из нескольких маленьких заданий. Каждое такое маленькое задание называется \"горошиной\".\n",
    "\n",
    "Назовём очень усердным учеником того пользователя, который хотя бы раз за текущий месяц правильно решил 20 горошин.\n",
    "\n",
    "## 2.1.2 Задача\n",
    "\n",
    "Дана таблица default.peas, default.studs\n",
    "\n",
    "\n",
    "Необходимо написать оптимальный запрос, который даст информацию о количестве очень усердных студентов.NB! Под усердным студентом мы понимаем студента, который правильно решил 20 задач за текущий месяц.\n",
    "\n",
    "## 2.2 Оптимизация воронки\n",
    "\n",
    "## 2.2.1 Условие\n",
    "\n",
    "Образовательная платформа предлагает пройти студентам курсы по модели trial: студент может решить бесплатно лишь 30 горошин в день. Для неограниченного количества заданий в определенной дисциплине студенту необходимо приобрести полный доступ. Команда провела эксперимент, где был протестирован новый экран оплаты.\n",
    "\n",
    "## 2.2.2 Задача\n",
    "\n",
    "Дана таблицы: default.peas (см. выше), default.studs:\n",
    "\n",
    "Необходимо в одном запросе выгрузить следующую информацию о группах пользователей:\n",
    "\n",
    "ARPU \n",
    "ARPAU \n",
    "CR в покупку \n",
    "СR активного пользователя в покупку \n",
    "CR пользователя из активности по математике (subject = ’math’) в покупку курса по математике\n",
    "ARPU считается относительно всех пользователей, попавших в группы.\n",
    "\n",
    "Активным считается пользователь, за все время решивший больше 10 задач правильно в любых дисциплинах.\n",
    "\n",
    "Активным по математике считается пользователь, за все время решивший 2 или больше задач правильно по математике."
   ]
  },
  {
   "cell_type": "code",
   "execution_count": null,
   "metadata": {},
   "outputs": [],
   "source": []
  },
  {
   "cell_type": "code",
   "execution_count": null,
   "metadata": {},
   "outputs": [],
   "source": []
  },
  {
   "cell_type": "code",
   "execution_count": null,
   "metadata": {},
   "outputs": [],
   "source": []
  },
  {
   "cell_type": "markdown",
   "metadata": {},
   "source": [
    "2.1.2 Перед тем как работать с таблицей default.peas, посмотрим на неё"
   ]
  },
  {
   "cell_type": "code",
   "execution_count": null,
   "metadata": {},
   "outputs": [],
   "source": [
    "SELECT \n",
    "    *\n",
    "FROM \n",
    "    peas\n",
    "LIMIT 100\n",
    "Можно заметить, что месяца и даты слишком часто повторяются, а есть ли вообще промежуток длинной\n",
    "в месяц в наших данных"
   ]
  },
  {
   "cell_type": "code",
   "execution_count": 3,
   "metadata": {},
   "outputs": [],
   "source": [
    "SELECT \n",
    "    MIN(timest),  -- минимальная дата в колонке timest\n",
    "    MAX(timest)   -- максимальная дата в колонке timest\n",
    "FROM \n",
    "    peas\n",
    "LIMIT 10\n",
    "\n",
    "На выводе получаем:\n",
    "    min(timest) 2021-10-30 13:00:00.000\n",
    "    max(timest) 2021-10-31 17:29:52.000\n",
    "А это значит, что данные у нас содержаться за 28,5 часов, а значит понятие усердного студента\n",
    "не совсем коректно считать за месяц, посмотрим кто из студентов за это время решил >= 20 задач,\n",
    "воспользовавшись простым запросом:"
   ]
  },
  {
   "cell_type": "code",
   "execution_count": null,
   "metadata": {},
   "outputs": [],
   "source": [
    "SELECT \n",
    "    st_id,\n",
    "    COUNT(correct) AS numcorrect -- выбираем какие поля будут в результирующей табл. и применим\n",
    "                                    агрерирующую функцию к колонке correct, чтобы посчитать кол-во\n",
    "                                    усердных студентов.\n",
    "FROM \n",
    "    peas                         -- из таблицы peas. \n",
    "WHERE \n",
    "    correct = '1'                -- не забываем про условие, нам нужны, только те полльзователи\n",
    "                                 -- которые правильно решили задачу, поэтому ставим условие в блок\n",
    "                                 -- WHERE\n",
    "GROUP BY \n",
    "    st_id                        -- группируем по студентам, чтобы напротив id студента мы видели\n",
    "                                 -- количество рещенных задач\n",
    "HAVING\n",
    "    numcorrect >=20             -- блок HAVING отвечает за группировку в результирующей таблице,\n",
    "                                -- добавляем интересующее нас условие >=20 корректно решенных задач\n",
    "LIMIT 100"
   ]
  },
  {
   "cell_type": "markdown",
   "metadata": {},
   "source": [
    "Остается обернуть этот запрос в подзапрос и посчитать количество усердных студентов"
   ]
  },
  {
   "cell_type": "code",
   "execution_count": null,
   "metadata": {},
   "outputs": [],
   "source": [
    "SELECT\n",
    " COUNT(DISTINCT(student.st_id)) AS diligent_student -- считаем количество уникальных студентов и \n",
    "                                          -- переименуем поле в diligent_student DISTINCT в целом\n",
    "                                          -- Необязателен т.к. есть групировка по st_id и этим мы себя\n",
    "                                          -- перепроверяем и с DISTINCT и без ответ получается \n",
    "                                          -- одинаковый, ответ: 136\n",
    "FROM                                      \n",
    "    (\n",
    "    SELECT \n",
    "        st_id,\n",
    "        COUNT(correct) AS numcorrect\n",
    "    FROM peas\n",
    "    WHERE \n",
    "        correct = '1'                    -- можно добавить AND toStartOfMonth(timest) = '2021-10-01'\n",
    "                                         -- чтобы приводить к началу месяца даты и смотреть за\n",
    "                                         -- интересующий нас месяц, если данные дополнятся\n",
    "    GROUP BY \n",
    "        st_id\n",
    "    HAVING\n",
    "        numcorrect >=20\n",
    "    ) AS student                          -- имя подзапроса к которому будет обращаться\n",
    "LIMIT 100"
   ]
  },
  {
   "cell_type": "markdown",
   "metadata": {},
   "source": [
    "Ответ: 136 Усердных студента решили более 20 задачек в течение 28.5 часов и месяца соответсвенно (т.к. данные только за 2 дня)"
   ]
  },
  {
   "cell_type": "markdown",
   "metadata": {},
   "source": [
    "2.2.2 Перед тем как работать с таблицами посмотрим на таблицы и составис предварительный план действия"
   ]
  },
  {
   "cell_type": "code",
   "execution_count": null,
   "metadata": {},
   "outputs": [],
   "source": [
    "SELECT \n",
    "*\n",
    "FROM studs\n",
    "LIMIT 100"
   ]
  },
  {
   "cell_type": "markdown",
   "metadata": {},
   "source": [
    "Колонки:\n",
    "    1. st_id - ид клиента\n",
    "    2. test_grp - группа пользователя"
   ]
  },
  {
   "cell_type": "code",
   "execution_count": null,
   "metadata": {},
   "outputs": [],
   "source": [
    "SELECT \n",
    "*\n",
    "FROM peas\n",
    "LIMIT 100"
   ]
  },
  {
   "cell_type": "markdown",
   "metadata": {},
   "source": [
    "Колонки:\n",
    "    1. st_id - ид клиента\n",
    "    2. timest - время выполнения задания\n",
    "    3. correcrt - выполнено задание верно(1) или нет(0).\n",
    "    4. subject - предмет"
   ]
  },
  {
   "cell_type": "code",
   "execution_count": null,
   "metadata": {},
   "outputs": [],
   "source": [
    "SELECT \n",
    "*\n",
    "FROM final_project_check\n",
    "LIMIT 100"
   ]
  },
  {
   "cell_type": "markdown",
   "metadata": {},
   "source": [
    "Колонки:\n",
    "    1. st_id - ид клиента\n",
    "    2. sale_time - время покупки\n",
    "    3. money - Цена, по которой приобрели данный курс\n",
    "    4. subject - предмет"
   ]
  },
  {
   "cell_type": "markdown",
   "metadata": {},
   "source": [
    "Далее помощью функции WITH(структура WITH as имя_таблицы(), as имя_таблицы_2() и т.д.) создадим временные таблицы, которые будем использовать ниже.\n",
    "Разбиваю чтобы проверить работоспособность кода внутри скобок.\n",
    "Выбираем уникальных студентов и их принадлежность к группе."
   ]
  },
  {
   "cell_type": "code",
   "execution_count": null,
   "metadata": {},
   "outputs": [],
   "source": [
    "WITH \n",
    "    all AS \n",
    "(\n",
    "    SELECT\n",
    "        DISTINCT(st_id) AS st_id_all,\n",
    "        test_grp AS grp\n",
    "    FROM\n",
    "        studs\n",
    "),"
   ]
  },
  {
   "cell_type": "markdown",
   "metadata": {},
   "source": [
    "Отбираем студентов, которые решили правильно задачи/чу из таблицы peas. Выводим их ид, предмет и сумму правильно выполненых заданий. Воспользуемся запросом из первого задания, добавив разбивку по предметам и установим фильтр на больше или равно 10 решенных заданий."
   ]
  },
  {
   "cell_type": "code",
   "execution_count": null,
   "metadata": {},
   "outputs": [],
   "source": [
    "more_than_10 AS\n",
    "(\n",
    "    SELECT \n",
    "        st_id AS st_id_more_than_10,\n",
    "        subject,\n",
    "        COUNT(correct) AS numcorrect\n",
    "    FROM peas\n",
    "    WHERE \n",
    "        correct = '1'                  \n",
    "    GROUP BY \n",
    "        st_id,\n",
    "        subject\n",
    "    HAVING\n",
    "        numcorrect > 10\n",
    "),"
   ]
  },
  {
   "cell_type": "markdown",
   "metadata": {},
   "source": [
    "Отбираем студентов и считаем их оплаты из таблицы final_project_check."
   ]
  },
  {
   "cell_type": "code",
   "execution_count": null,
   "metadata": {},
   "outputs": [],
   "source": [
    "buys AS\n",
    "(\n",
    "    SELECT\n",
    "        st_id,\n",
    "        subject,\n",
    "        SUM(money) as rev_subject\n",
    "    FROM \n",
    "        final_project_check\n",
    "    GROUP BY \n",
    "        st_id, \n",
    "        subject\n",
    "),"
   ]
  },
  {
   "cell_type": "markdown",
   "metadata": {},
   "source": [
    "Добавляем ещё одну вспомогательную таблицу, в которой будем считать активных пользователей по математике и использовать ее для расчета CR по математике в результирующес запросе"
   ]
  },
  {
   "cell_type": "code",
   "execution_count": 5,
   "metadata": {},
   "outputs": [],
   "source": [
    "math AS\n",
    "(\n",
    "    SELECT \n",
    "    st_id AS math_id,\n",
    "    SUM(CASE WHEN correct = '1' AND subject = 'Math' THEN 1 ELSE 0 END) AS math_correct_quantity\n",
    "    FROM \n",
    "        peas\n",
    "    WHERE subject = 'Math'\n",
    "    GROUP BY \n",
    "        math_id\n",
    "    HAVING \n",
    "        SUM(CASE WHEN correct = '1' AND subject = 'Math' THEN 1 ELSE 0 END) >= 2 -- фильтрация \n",
    "-- после агрегации, отставляем только тех кто решил больше 2 задач по математике верно.\n",
    "),"
   ]
  },
  {
   "cell_type": "markdown",
   "metadata": {},
   "source": [
    "Объединим две таблицы all и тех кто активный больше 10 задач (код в SQL работать не будет т.к. это часть запроса и он ссылается на другие таблицы)"
   ]
  },
  {
   "cell_type": "code",
   "execution_count": null,
   "metadata": {},
   "outputs": [],
   "source": [
    "SELECT\n",
    "    l.st_id_all as st_id_all,\n",
    "    l.grp as grp,\n",
    "    r.st_id_more_than_10 as st_id_more_than_10,\n",
    "    r.subject as subject\n",
    "FROM\n",
    "    all as l\n",
    "LEFT JOIN more_than_10 as r\n",
    "ON l.st_id_all = r.st_id_more_than_10\n"
   ]
  },
  {
   "cell_type": "markdown",
   "metadata": {},
   "source": [
    "Джоиним сюда еще одну таблицу - buy добавляем код, который выше"
   ]
  },
  {
   "cell_type": "code",
   "execution_count": 2,
   "metadata": {},
   "outputs": [],
   "source": [
    "SELECT \n",
    "    Levo.st_id AS st_id_buy,\n",
    "    Levo.subject AS subject_buy,\n",
    "    Levo.rev_subject AS rev,\n",
    "    Pravo.st_id_all AS st_id_all,\n",
    "    Pravo.grp AS grp,\n",
    "    Pravo.st_id_more_than_10 AS st_id_more_than_10\n",
    "FROM buys AS Levo\n",
    "RIGHT JOIN\n",
    "         (\n",
    "            SELECT\n",
    "                l.st_id_all as st_id_all,\n",
    "                l.grp as grp,\n",
    "                r.st_id_more_than_10 as st_id_more_than_10,\n",
    "                r.subject as subject\n",
    "            FROM\n",
    "                all as l\n",
    "            LEFT JOIN more_than_10 as r\n",
    "            ON l.st_id_all = r.st_id_more_than_10\n",
    "         ) AS Pravo\n",
    "        ON Levo.st_id = Pravo.st_id_all AND  Levo.subject = Pravo.subject"
   ]
  },
  {
   "cell_type": "markdown",
   "metadata": {},
   "source": [
    "Остается приджойнить только таблицу по математике и добавить вывод количества в блок SELECT, создаем результирующую таблицу "
   ]
  },
  {
   "cell_type": "code",
   "execution_count": 7,
   "metadata": {},
   "outputs": [],
   "source": [
    "full AS\n",
    "(\n",
    "    SELECT\n",
    "        new_levo.math_id as math_id, --  количество активных пользователей по математике\n",
    "        new_levo.math_correct_quantity as math_correct_quantity, -- строчку можно убрать, в результирующем \n",
    "                                                                 -- запросе сагрегирую по math_id\n",
    "        new_pravo.st_id_buy as st_id_buy, -- ид студентов которые покупали\n",
    "        new_pravo.rev as rev,             -- сумма покупок\n",
    "        new_pravo.st_id_all as st_id_all, -- ид всеех пользователей\n",
    "        new_pravo.grp as grp,             -- группы контрольная и пилотная\n",
    "        new_pravo.st_id_more_than_10 as st_id_more_than_10, -- ид пользователей активных >10 действий\n",
    "        new_pravo.subject_buy as subject                    -- предмет\n",
    "    FROM\n",
    "        math as new_levo\n",
    "    RIGHT JOIN\n",
    "\n",
    "    (\n",
    "        SELECT \n",
    "            Levo.st_id AS st_id_buy,\n",
    "            Levo.subject AS subject_buy,\n",
    "            Levo.rev_subject AS rev,\n",
    "            Pravo.st_id_all AS st_id_all,\n",
    "            Pravo.grp AS grp,\n",
    "            Pravo.st_id_more_than_10 AS st_id_more_than_10\n",
    "        FROM buys AS Levo\n",
    "        RIGHT JOIN\n",
    "         (\n",
    "            SELECT\n",
    "                l.st_id_all as st_id_all,\n",
    "                l.grp as grp,\n",
    "                r.st_id_more_than_10 as st_id_more_than_10,\n",
    "                r.subject as subject\n",
    "            FROM\n",
    "                all as l\n",
    "            LEFT JOIN more_than_10 as r\n",
    "            ON l.st_id_all = r.st_id_more_than_10\n",
    "         ) AS Pravo\n",
    "        ON Levo.st_id = Pravo.st_id_all AND  Levo.subject = Pravo.subject\n",
    "    ) AS new_pravo\n",
    "ON new_pravo.st_id_buy = new_levo.math_id\n",
    ")"
   ]
  },
  {
   "cell_type": "markdown",
   "metadata": {},
   "source": [
    "##### Финальный блок запроса, в котором мы используем данные полученные в результирующей таблице.\n",
    "- ARPU Это вычисление среднего дохода на пользователя (Average Revenue Per User, ARPU). Мы суммируем доход (rev) и делим на количество уникальных пользователей (st_id_all), чтобы получить средний доход на пользователя.\n",
    "- ARPAU  Это вычисление среднего дохода на активного (решающего больше 10 задач, далее будем использовать именно определение активного, активных по математике считается если он решил больше двух задач) пользователя (Average Revenue Per Active User, ARPAU). Мы суммируем доход (rev) и делим на количество уникальных решающих/активных пользователей (st_id_more_than_10), чтобы получить средний доход на активного пользователя.\n",
    "- CR в покупку Это вычисление конверсии в покупку (Conversion Rate to Purchase) в процентах среди всех пользователей. Мы считаем количество уникальных платящих пользователей (st_id_buy) и делим на количество уникальных пользователей (st_id_all), затем умножаем на 100 для получения процентного значения.\n",
    "- СR активного пользователя в покупку Это вычисление конверсии в покупку среди активных пользователей (Conversion Rate to Purchase Among Active Users) в процентах. Мы считаем количество уникальных платящих пользователей (st_id_buy) и делим на количество уникальных активных пользователей(st_id_more_than_10), затем умножаем на 100.\n",
    "- CR пользователя из активности по математике (subject = ’math’) в покупку курса по математике Это вычисление конверсии в предмете Math среди активных пользователей в процентах. Мы считаем количество активных пользователей (a_id), которые выбрали предмет Math (p_subject = 'Math' и решили больше 2х задач) и делим на общее количество активных пользователей, затем умножаем на 100."
   ]
  },
  {
   "cell_type": "code",
   "execution_count": null,
   "metadata": {},
   "outputs": [],
   "source": [
    "SELECT \n",
    "    grp,\n",
    "    SUM(rev)/COUNT(DISTINCT(st_id_all)) AS ARPU,\n",
    "    SUM(rev) / COUNT(DISTINCT(st_id_more_than_10)) AS ARPAU,\n",
    "    COUNT(DISTINCT(st_id_buy)) / COUNT(DISTINCT(st_id_all)) * 100 AS CR_pokupla,\n",
    "    COUNT(DISTINCT (st_id_buy)) / COUNT(DISTINCT (st_id_more_than_10)) * 100 AS CR_active_pokupka,\n",
    "    COUNT(DISTINCT CASE WHEN subject = 'Math' THEN st_id_buy END) / COUNT(DISTINCT (math_id)) * 100 AS cr_math\n",
    "FROM full\n",
    "GROUP BY"
   ]
  },
  {
   "cell_type": "markdown",
   "metadata": {},
   "source": [
    "Итоговый код"
   ]
  },
  {
   "cell_type": "code",
   "execution_count": null,
   "metadata": {},
   "outputs": [],
   "source": [
    "WITH \n",
    "    all AS \n",
    "(\n",
    "    SELECT\n",
    "        DISTINCT(st_id) AS st_id_all,\n",
    "        test_grp AS grp\n",
    "    FROM\n",
    "        studs\n",
    "),\n",
    "\n",
    "more_than_10 AS\n",
    "(\n",
    "    SELECT \n",
    "        st_id AS st_id_more_than_10,\n",
    "        subject,\n",
    "        COUNT(correct) AS numcorrect\n",
    "    FROM peas\n",
    "    WHERE \n",
    "        correct = '1'                  \n",
    "    GROUP BY \n",
    "        st_id,\n",
    "        subject\n",
    "    HAVING\n",
    "        numcorrect > 10\n",
    "),\n",
    "\n",
    "buys AS\n",
    "(\n",
    "    SELECT\n",
    "        st_id,\n",
    "        subject,\n",
    "        SUM(money) as rev_subject\n",
    "    FROM \n",
    "        final_project_check\n",
    "    GROUP BY \n",
    "        st_id, \n",
    "        subject\n",
    "),\n",
    "\n",
    "math AS\n",
    "(\n",
    "    SELECT \n",
    "    st_id AS math_id,\n",
    "    SUM(CASE WHEN correct = '1' AND subject = 'Math' THEN 1 ELSE 0 END) AS math_correct_quantity\n",
    "    FROM \n",
    "        peas\n",
    "    WHERE subject = 'Math'\n",
    "    GROUP BY \n",
    "        math_id\n",
    "    HAVING \n",
    "        SUM(CASE WHEN correct = '1' AND subject = 'Math' THEN 1 ELSE 0 END) >= 2\n",
    "),\n",
    "\n",
    "\n",
    "full AS\n",
    "(\n",
    "    SELECT\n",
    "        new_levo.math_id as math_id, --  количество активных пользователей по математике\n",
    "        new_levo.math_correct_quantity as math_correct_quantity, -- строчку можно убрать, в результирующем \n",
    "                                                                 -- запросе сагрегирую по math_id\n",
    "        new_pravo.st_id_buy as st_id_buy, -- ид студентов которые покупали\n",
    "        new_pravo.rev as rev,             -- сумма покупок\n",
    "        new_pravo.st_id_all as st_id_all, -- ид всеех пользователей\n",
    "        new_pravo.grp as grp,             -- группы контрольная и пилотная\n",
    "        new_pravo.st_id_more_than_10 as st_id_more_than_10, -- ид пользователей активных >10 действий\n",
    "        new_pravo.subject_buy as subject                    -- предмет\n",
    "    FROM\n",
    "        math as new_levo\n",
    "    RIGHT JOIN\n",
    "\n",
    "    (\n",
    "        SELECT \n",
    "            Levo.st_id AS st_id_buy,\n",
    "            Levo.subject AS subject_buy,\n",
    "            Levo.rev_subject AS rev,\n",
    "            Pravo.st_id_all AS st_id_all,\n",
    "            Pravo.grp AS grp,\n",
    "            Pravo.st_id_more_than_10 AS st_id_more_than_10\n",
    "        FROM buys AS Levo\n",
    "        RIGHT JOIN\n",
    "         (\n",
    "            SELECT\n",
    "                l.st_id_all as st_id_all,\n",
    "                l.grp as grp,\n",
    "                r.st_id_more_than_10 as st_id_more_than_10,\n",
    "                r.subject as subject\n",
    "            FROM\n",
    "                all as l\n",
    "            LEFT JOIN more_than_10 as r\n",
    "            ON l.st_id_all = r.st_id_more_than_10\n",
    "         ) AS Pravo\n",
    "        ON Levo.st_id = Pravo.st_id_all AND  Levo.subject = Pravo.subject\n",
    "    ) AS new_pravo\n",
    "ON new_pravo.st_id_buy = new_levo.math_id\n",
    ")\n",
    "SELECT \n",
    "    grp,\n",
    "    SUM(rev)/COUNT(DISTINCT(st_id_all)) AS ARPU,\n",
    "    SUM(rev) / COUNT(DISTINCT(st_id_more_than_10)) AS ARPAU,\n",
    "    COUNT(DISTINCT(st_id_buy)) / COUNT(DISTINCT(st_id_all)) * 100 AS CR_pokupla,\n",
    "    COUNT(DISTINCT (st_id_buy)) / COUNT(DISTINCT (st_id_more_than_10)) * 100 AS CR_active_pokupka,\n",
    "    COUNT(DISTINCT CASE WHEN subject = 'Math' THEN st_id_buy END) / COUNT(DISTINCT (math_id)) * 100 AS cr_math\n",
    "FROM full\n",
    "GROUP BY\n",
    "grp"
   ]
  },
  {
   "cell_type": "code",
   "execution_count": null,
   "metadata": {},
   "outputs": [],
   "source": []
  },
  {
   "cell_type": "code",
   "execution_count": null,
   "metadata": {},
   "outputs": [],
   "source": []
  }
 ],
 "metadata": {
  "kernelspec": {
   "display_name": "Python 3",
   "language": "python",
   "name": "python3"
  },
  "language_info": {
   "codemirror_mode": {
    "name": "ipython",
    "version": 3
   },
   "file_extension": ".py",
   "mimetype": "text/x-python",
   "name": "python",
   "nbconvert_exporter": "python",
   "pygments_lexer": "ipython3",
   "version": "3.7.3"
  }
 },
 "nbformat": 4,
 "nbformat_minor": 4
}
